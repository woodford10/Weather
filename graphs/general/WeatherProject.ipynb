{
 "cells": [
  {
   "cell_type": "code",
   "execution_count": 2,
   "metadata": {
    "collapsed": true
   },
   "outputs": [],
   "source": [
    "import scipy\n",
    "import numpy as np\n",
    "import pandas as pd\n",
    "import plotly.plotly as py\n",
    "# import visplots\n",
    "from plotly.graph_objs import *\n",
    "from plotly.offline import download_plotlyjs, init_notebook_mode, iplot\n",
    "from sklearn import preprocessing, metrics\n",
    "from sklearn.cross_validation import train_test_split, cross_val_score\n",
    "from sklearn.neighbors import KNeighborsClassifier\n",
    "from sklearn.ensemble import RandomForestClassifier\n",
    "from sklearn.tree import DecisionTreeClassifier\n",
    "from sklearn.grid_search import GridSearchCV, RandomizedSearchCV\n",
    "from scipy.stats.distributions import randint\n",
    "import plotly.graph_objs as go\n",
    "import plotly.tools as tls\n",
    "tls.set_credentials_file(username='cap7carps', api_key='d28TqBXnTSA80L2xctmI')\n",
    "from numpy import arange,array,ones\n",
    "from scipy import stats"
   ]
  },
  {
   "cell_type": "code",
   "execution_count": 21,
   "metadata": {
    "collapsed": false
   },
   "outputs": [],
   "source": [
    "weatherFrame = pd.read_pickle(r'C:\\GIT\\weatherproj\\Weather\\weather_data.pki')"
   ]
  },
  {
   "cell_type": "code",
   "execution_count": 22,
   "metadata": {
    "collapsed": false
   },
   "outputs": [
    {
     "data": {
      "text/plain": [
       "(18357, 10)"
      ]
     },
     "execution_count": 22,
     "metadata": {},
     "output_type": "execute_result"
    }
   ],
   "source": [
    "weatherFrame.shape"
   ]
  },
  {
   "cell_type": "code",
   "execution_count": 23,
   "metadata": {
    "collapsed": false
   },
   "outputs": [
    {
     "data": {
      "text/html": [
       "<div>\n",
       "<table border=\"1\" class=\"dataframe\">\n",
       "  <thead>\n",
       "    <tr style=\"text-align: right;\">\n",
       "      <th></th>\n",
       "      <th>avg_rain_prob</th>\n",
       "      <th>avg_temp_frc</th>\n",
       "      <th>city</th>\n",
       "      <th>date_time_period</th>\n",
       "      <th>forecast_period</th>\n",
       "      <th>avg_temp_obs</th>\n",
       "      <th>avg_ws_obs</th>\n",
       "      <th>w_observed</th>\n",
       "      <th>avg_temp_dif</th>\n",
       "      <th>rain_accuracy</th>\n",
       "    </tr>\n",
       "  </thead>\n",
       "  <tbody>\n",
       "    <tr>\n",
       "      <th>0</th>\n",
       "      <td>9.0</td>\n",
       "      <td>7.0</td>\n",
       "      <td>glasgow</td>\n",
       "      <td>2017-01-03 06:00:00</td>\n",
       "      <td>-1.0</td>\n",
       "      <td>7.3</td>\n",
       "      <td>9.5</td>\n",
       "      <td>[8.0, 8.0]</td>\n",
       "      <td>0.3</td>\n",
       "      <td>0.91</td>\n",
       "    </tr>\n",
       "    <tr>\n",
       "      <th>1</th>\n",
       "      <td>9.0</td>\n",
       "      <td>6.0</td>\n",
       "      <td>glasgow</td>\n",
       "      <td>2017-01-03 06:00:00</td>\n",
       "      <td>2.0</td>\n",
       "      <td>7.3</td>\n",
       "      <td>9.5</td>\n",
       "      <td>[8.0, 8.0]</td>\n",
       "      <td>1.3</td>\n",
       "      <td>0.91</td>\n",
       "    </tr>\n",
       "    <tr>\n",
       "      <th>2</th>\n",
       "      <td>8.0</td>\n",
       "      <td>6.0</td>\n",
       "      <td>glasgow</td>\n",
       "      <td>2017-01-03 06:00:00</td>\n",
       "      <td>5.0</td>\n",
       "      <td>7.3</td>\n",
       "      <td>9.5</td>\n",
       "      <td>[8.0, 8.0]</td>\n",
       "      <td>1.3</td>\n",
       "      <td>0.92</td>\n",
       "    </tr>\n",
       "    <tr>\n",
       "      <th>3</th>\n",
       "      <td>10.0</td>\n",
       "      <td>6.0</td>\n",
       "      <td>glasgow</td>\n",
       "      <td>2017-01-03 06:00:00</td>\n",
       "      <td>8.0</td>\n",
       "      <td>7.3</td>\n",
       "      <td>9.5</td>\n",
       "      <td>[8.0, 8.0]</td>\n",
       "      <td>1.3</td>\n",
       "      <td>0.90</td>\n",
       "    </tr>\n",
       "    <tr>\n",
       "      <th>4</th>\n",
       "      <td>9.0</td>\n",
       "      <td>6.0</td>\n",
       "      <td>glasgow</td>\n",
       "      <td>2017-01-03 06:00:00</td>\n",
       "      <td>11.0</td>\n",
       "      <td>7.3</td>\n",
       "      <td>9.5</td>\n",
       "      <td>[8.0, 8.0]</td>\n",
       "      <td>1.3</td>\n",
       "      <td>0.91</td>\n",
       "    </tr>\n",
       "  </tbody>\n",
       "</table>\n",
       "</div>"
      ],
      "text/plain": [
       "   avg_rain_prob  avg_temp_frc     city    date_time_period  forecast_period  \\\n",
       "0            9.0           7.0  glasgow 2017-01-03 06:00:00             -1.0   \n",
       "1            9.0           6.0  glasgow 2017-01-03 06:00:00              2.0   \n",
       "2            8.0           6.0  glasgow 2017-01-03 06:00:00              5.0   \n",
       "3           10.0           6.0  glasgow 2017-01-03 06:00:00              8.0   \n",
       "4            9.0           6.0  glasgow 2017-01-03 06:00:00             11.0   \n",
       "\n",
       "   avg_temp_obs  avg_ws_obs  w_observed  avg_temp_dif  rain_accuracy  \n",
       "0           7.3         9.5  [8.0, 8.0]           0.3           0.91  \n",
       "1           7.3         9.5  [8.0, 8.0]           1.3           0.91  \n",
       "2           7.3         9.5  [8.0, 8.0]           1.3           0.92  \n",
       "3           7.3         9.5  [8.0, 8.0]           1.3           0.90  \n",
       "4           7.3         9.5  [8.0, 8.0]           1.3           0.91  "
      ]
     },
     "execution_count": 23,
     "metadata": {},
     "output_type": "execute_result"
    }
   ],
   "source": [
    "weatherFrame.head()"
   ]
  },
  {
   "cell_type": "code",
   "execution_count": 6,
   "metadata": {
    "collapsed": false
   },
   "outputs": [],
   "source": [
    "london = weatherFrame.ix[weatherFrame['city'] == 'london', ['forecast_period', 'avg_temp_dif', 'rain_accuracy']].groupby('forecast_period').mean()"
   ]
  },
  {
   "cell_type": "code",
   "execution_count": 7,
   "metadata": {
    "collapsed": false
   },
   "outputs": [],
   "source": [
    "glasgow = weatherFrame.ix[weatherFrame['city'] == 'glasgow', ['forecast_period', 'avg_temp_dif', 'rain_accuracy']].groupby('forecast_period').mean()\n",
    "glasgownp = np.array(glasgow)"
   ]
  },
  {
   "cell_type": "code",
   "execution_count": 8,
   "metadata": {
    "collapsed": false
   },
   "outputs": [
    {
     "data": {
      "text/html": [
       "<div>\n",
       "<table border=\"1\" class=\"dataframe\">\n",
       "  <thead>\n",
       "    <tr style=\"text-align: right;\">\n",
       "      <th></th>\n",
       "      <th>avg_temp_dif</th>\n",
       "      <th>rain_accuracy</th>\n",
       "    </tr>\n",
       "    <tr>\n",
       "      <th>forecast_period</th>\n",
       "      <th></th>\n",
       "      <th></th>\n",
       "    </tr>\n",
       "  </thead>\n",
       "  <tbody>\n",
       "    <tr>\n",
       "      <th>-5.0</th>\n",
       "      <td>1.041975</td>\n",
       "      <td>0.679444</td>\n",
       "    </tr>\n",
       "    <tr>\n",
       "      <th>-4.0</th>\n",
       "      <td>1.006475</td>\n",
       "      <td>0.808397</td>\n",
       "    </tr>\n",
       "    <tr>\n",
       "      <th>-3.0</th>\n",
       "      <td>0.970789</td>\n",
       "      <td>0.790640</td>\n",
       "    </tr>\n",
       "    <tr>\n",
       "      <th>-2.0</th>\n",
       "      <td>0.830000</td>\n",
       "      <td>0.560000</td>\n",
       "    </tr>\n",
       "    <tr>\n",
       "      <th>-1.0</th>\n",
       "      <td>0.891319</td>\n",
       "      <td>0.812311</td>\n",
       "    </tr>\n",
       "  </tbody>\n",
       "</table>\n",
       "</div>"
      ],
      "text/plain": [
       "                 avg_temp_dif  rain_accuracy\n",
       "forecast_period                             \n",
       "-5.0                 1.041975       0.679444\n",
       "-4.0                 1.006475       0.808397\n",
       "-3.0                 0.970789       0.790640\n",
       "-2.0                 0.830000       0.560000\n",
       "-1.0                 0.891319       0.812311"
      ]
     },
     "execution_count": 8,
     "metadata": {},
     "output_type": "execute_result"
    }
   ],
   "source": [
    "londonnp = np.array(london)\n",
    "london.head()"
   ]
  },
  {
   "cell_type": "code",
   "execution_count": 9,
   "metadata": {
    "collapsed": false
   },
   "outputs": [],
   "source": [
    "timeperiods = list(london.index)"
   ]
  },
  {
   "cell_type": "code",
   "execution_count": 10,
   "metadata": {
    "collapsed": false
   },
   "outputs": [
    {
     "data": {
      "text/plain": [
       "array([[ 1.04197531,  0.67944444],\n",
       "       [ 1.00647452,  0.80839724],\n",
       "       [ 0.97078853,  0.79063978],\n",
       "       [ 0.83      ,  0.56      ],\n",
       "       [ 0.89131944,  0.81231146],\n",
       "       [ 0.96407973,  0.81982443],\n",
       "       [ 0.85185185,  0.57041667],\n",
       "       [ 1.15361111,  0.83088021],\n",
       "       [ 1.03235793,  0.79565649],\n",
       "       [ 1.00185185,  0.56583333],\n",
       "       [ 1.05531097,  0.83251782],\n",
       "       [ 1.10525869,  0.79911832],\n",
       "       [ 0.59230769,  0.66538462],\n",
       "       [ 1.13504542,  0.83449686],\n",
       "       [ 1.09033079,  0.80116031],\n",
       "       [ 0.82222222,  0.63038462],\n",
       "       [ 1.16250874,  0.81959644],\n",
       "       [ 1.06569126,  0.81994402],\n",
       "       [ 0.86825397,  0.74642857],\n",
       "       [ 1.17393431,  0.81063103],\n",
       "       [ 1.04173028,  0.8129173 ],\n",
       "       [ 0.98888889,  0.74464286],\n",
       "       [ 1.1444095 ,  0.81882914],\n",
       "       [ 1.14677693,  0.80055725],\n",
       "       [ 1.26190476,  0.83678571],\n",
       "       [ 1.1851153 ,  0.81525786],\n",
       "       [ 1.18324852,  0.81223155],\n",
       "       [ 1.11825397,  0.82035714],\n",
       "       [ 1.21921733,  0.81568973],\n",
       "       [ 1.09276094,  0.82021465],\n",
       "       [ 1.26587302,  0.8125    ],\n",
       "       [ 1.20405311,  0.79479245],\n",
       "       [ 1.10660774,  0.80322854],\n",
       "       [ 1.27539683,  0.6975    ],\n",
       "       [ 1.13357792,  0.80362474],\n",
       "       [ 1.185581  ,  0.78948855],\n",
       "       [ 1.30793651,  0.77071429],\n",
       "       [ 1.16771488,  0.80777044],\n",
       "       [ 1.1719697 ,  0.78963384],\n",
       "       [ 1.74126984,  0.84642857],\n",
       "       [ 1.23539483,  0.80355765],\n",
       "       [ 1.1405303 ,  0.82499495],\n",
       "       [ 1.61428571,  0.85678571],\n",
       "       [ 1.22855134,  0.8019135 ],\n",
       "       [ 1.14924242,  0.82407449],\n",
       "       [ 1.32539683,  0.78714286],\n",
       "       [ 1.16848358,  0.79486268],\n",
       "       [ 1.20089059,  0.80839695],\n",
       "       [ 1.31587302,  0.85678571],\n",
       "       [ 1.22393431,  0.81033648],\n",
       "       [ 1.12717949,  0.80865769],\n",
       "       [ 1.21984127,  0.85107143],\n",
       "       [ 1.23357792,  0.81472746],\n",
       "       [ 1.08290598,  0.79497051],\n",
       "       [ 1.07777778,  0.7375    ],\n",
       "       [ 1.19109015,  0.79698218],\n",
       "       [ 1.20371795,  0.81001795],\n",
       "       [ 1.37777778,  0.64142857],\n",
       "       [ 1.10121528,  0.80636146],\n",
       "       [ 1.28083549,  0.78882171],\n",
       "       [ 1.31666667,  0.59107143],\n",
       "       [ 1.19170139,  0.80184792],\n",
       "       [ 1.16550388,  0.78616408],\n",
       "       [ 1.04206349,  0.57464286],\n",
       "       [ 1.2271875 ,  0.77909792],\n",
       "       [ 1.2118863 ,  0.79531266],\n",
       "       [ 1.25952381,  0.605     ],\n",
       "       [ 1.19989583,  0.78056875],\n",
       "       [ 1.2765625 ,  0.79592708],\n",
       "       [ 1.03888889,  0.64428571],\n",
       "       [ 1.19614583,  0.77690521],\n",
       "       [ 1.27524059,  0.79162992],\n",
       "       [ 0.97857143,  0.69214286],\n",
       "       [ 1.29329861,  0.78035312],\n",
       "       [ 1.15524934,  0.7748622 ],\n",
       "       [ 0.95634921,  0.70178571],\n",
       "       [ 1.23715278,  0.78188021],\n",
       "       [ 1.10603299,  0.78959896],\n",
       "       [ 0.98333333,  0.72321429],\n",
       "       [ 1.18454861,  0.76295   ],\n",
       "       [ 1.22694663,  0.77105906],\n",
       "       [ 1.32619048,  0.79      ],\n",
       "       [ 1.20513889,  0.76487604],\n",
       "       [ 1.33470018,  0.7685582 ],\n",
       "       [ 1.54920635,  0.76785714],\n",
       "       [ 1.23888889,  0.77249375],\n",
       "       [ 1.2432    ,  0.77436667],\n",
       "       [ 1.42380952,  0.72821429],\n",
       "       [ 1.30017361,  0.77317396],\n",
       "       [ 1.2546147 ,  0.76965995],\n",
       "       [ 1.19206349,  0.72392857],\n",
       "       [ 1.24451389,  0.7693125 ],\n",
       "       [ 1.38503584,  0.76287366],\n",
       "       [ 1.03888889,  0.81464286],\n",
       "       [ 1.28815972,  0.77231875],\n",
       "       [ 1.450271  ,  0.74527371],\n",
       "       [ 1.19444444,  0.76071429],\n",
       "       [ 1.33861111,  0.77101667],\n",
       "       [ 1.33107498,  0.7470122 ],\n",
       "       [ 1.13730159,  0.73107143],\n",
       "       [ 1.33934028,  0.75021042],\n",
       "       [ 1.37271906,  0.77574797],\n",
       "       [ 0.9952381 ,  0.81821429],\n",
       "       [ 1.27612721,  0.73859662],\n",
       "       [ 1.51289683,  0.7597247 ],\n",
       "       [ 1.13148148,  0.88375   ],\n",
       "       [ 1.26012545,  0.76299866],\n",
       "       [ 1.6137037 ,  0.75342222],\n",
       "       [ 1.4979798 ,  0.81863636],\n",
       "       [ 1.44722222,  0.75358173],\n",
       "       [ 1.47936508,  0.74345952],\n",
       "       [ 1.35802469,  0.79666667],\n",
       "       [ 1.44180912,  0.7612906 ],\n",
       "       [ 1.47864583,  0.78109896],\n",
       "       [ 0.76111111,  0.77125   ],\n",
       "       [ 1.47304527,  0.78267901],\n",
       "       [ 1.45620915,  0.77980392],\n",
       "       [ 1.04126984,  0.65285714],\n",
       "       [ 1.48410494,  0.72259722],\n",
       "       [ 1.38504274,  0.81726923],\n",
       "       [ 1.56388889,  0.7575    ],\n",
       "       [ 1.442     ,  0.81996667],\n",
       "       [ 1.06333333,  0.905     ],\n",
       "       [ 1.26666667,  0.67      ]])"
      ]
     },
     "execution_count": 10,
     "metadata": {},
     "output_type": "execute_result"
    }
   ],
   "source": [
    "londonnp"
   ]
  },
  {
   "cell_type": "code",
   "execution_count": 11,
   "metadata": {
    "collapsed": false
   },
   "outputs": [
    {
     "data": {
      "text/plain": [
       "array([ 1.04197531,  1.00647452,  0.97078853,  0.83      ,  0.89131944,\n",
       "        0.96407973,  0.85185185,  1.15361111,  1.03235793,  1.00185185,\n",
       "        1.05531097,  1.10525869,  0.59230769,  1.13504542,  1.09033079,\n",
       "        0.82222222,  1.16250874,  1.06569126,  0.86825397,  1.17393431,\n",
       "        1.04173028,  0.98888889,  1.1444095 ,  1.14677693,  1.26190476,\n",
       "        1.1851153 ,  1.18324852,  1.11825397,  1.21921733,  1.09276094,\n",
       "        1.26587302,  1.20405311,  1.10660774,  1.27539683,  1.13357792,\n",
       "        1.185581  ,  1.30793651,  1.16771488,  1.1719697 ,  1.74126984,\n",
       "        1.23539483,  1.1405303 ,  1.61428571,  1.22855134,  1.14924242,\n",
       "        1.32539683,  1.16848358,  1.20089059,  1.31587302,  1.22393431,\n",
       "        1.12717949,  1.21984127,  1.23357792,  1.08290598,  1.07777778,\n",
       "        1.19109015,  1.20371795,  1.37777778,  1.10121528,  1.28083549,\n",
       "        1.31666667,  1.19170139,  1.16550388,  1.04206349,  1.2271875 ,\n",
       "        1.2118863 ,  1.25952381,  1.19989583,  1.2765625 ,  1.03888889,\n",
       "        1.19614583,  1.27524059,  0.97857143,  1.29329861,  1.15524934,\n",
       "        0.95634921,  1.23715278,  1.10603299,  0.98333333,  1.18454861,\n",
       "        1.22694663,  1.32619048,  1.20513889,  1.33470018,  1.54920635,\n",
       "        1.23888889,  1.2432    ,  1.42380952,  1.30017361,  1.2546147 ,\n",
       "        1.19206349,  1.24451389,  1.38503584,  1.03888889,  1.28815972,\n",
       "        1.450271  ,  1.19444444,  1.33861111,  1.33107498,  1.13730159,\n",
       "        1.33934028,  1.37271906,  0.9952381 ,  1.27612721,  1.51289683,\n",
       "        1.13148148,  1.26012545,  1.6137037 ,  1.4979798 ,  1.44722222,\n",
       "        1.47936508,  1.35802469,  1.44180912,  1.47864583,  0.76111111,\n",
       "        1.47304527,  1.45620915,  1.04126984,  1.48410494,  1.38504274,\n",
       "        1.56388889,  1.442     ,  1.06333333,  1.26666667])"
      ]
     },
     "execution_count": 11,
     "metadata": {},
     "output_type": "execute_result"
    }
   ],
   "source": [
    "londonnp[:,0]"
   ]
  },
  {
   "cell_type": "code",
   "execution_count": null,
   "metadata": {
    "collapsed": false
   },
   "outputs": [],
   "source": []
  },
  {
   "cell_type": "code",
   "execution_count": 24,
   "metadata": {
    "collapsed": false
   },
   "outputs": [
    {
     "data": {
      "text/html": [
       "<iframe id=\"igraph\" scrolling=\"no\" style=\"border:none;\" seamless=\"seamless\" src=\"https://plot.ly/~cap7carps/90.embed\" height=\"525px\" width=\"100%\"></iframe>"
      ],
      "text/plain": [
       "<plotly.tools.PlotlyDisplay object>"
      ]
     },
     "execution_count": 24,
     "metadata": {},
     "output_type": "execute_result"
    }
   ],
   "source": [
    "line1 = go.Scatter(\n",
    "    y = londonnp[:,0],\n",
    "    x = list(london.index),\n",
    "    mode = 'lines',\n",
    "    name = 'London'\n",
    ")\n",
    "\n",
    "\n",
    "line2 = go.Scatter(\n",
    "    y = glasgownp[:,0],\n",
    "    x = list(london.index),\n",
    "    mode = 'lines',\n",
    "    name = 'Glasgow'\n",
    ")\n",
    "\n",
    "layout = go.Layout(\n",
    "    title='Temp Difference, Hours before',\n",
    "    yaxis=dict(title='Difference'),\n",
    "    xaxis=dict(title='Hours')\n",
    ")\n",
    "\n",
    "data = [line1, line2]\n",
    "fig = go.Figure(data=data, layout=layout)\n",
    "# Plot and embed in ipython notebook!\n",
    "py.iplot(fig)"
   ]
  },
  {
   "cell_type": "code",
   "execution_count": 25,
   "metadata": {
    "collapsed": false
   },
   "outputs": [
    {
     "data": {
      "text/html": [
       "<iframe id=\"igraph\" scrolling=\"no\" style=\"border:none;\" seamless=\"seamless\" src=\"https://plot.ly/~cap7carps/92.embed\" height=\"525px\" width=\"100%\"></iframe>"
      ],
      "text/plain": [
       "<plotly.tools.PlotlyDisplay object>"
      ]
     },
     "execution_count": 25,
     "metadata": {},
     "output_type": "execute_result"
    }
   ],
   "source": [
    "line1 = go.Scatter(\n",
    "    y = londonnp[:,1],\n",
    "    x = list(london.index),\n",
    "    mode = 'lines',\n",
    "    name = 'London'\n",
    ")\n",
    "\n",
    "\n",
    "line2 = go.Scatter(\n",
    "    y = glasgownp[:,1],\n",
    "    x = list(london.index),\n",
    "    mode = 'lines',\n",
    "    name = 'Glasgow'\n",
    ")\n",
    "\n",
    "layout = go.Layout(\n",
    "    title='Rain Accuray, Hours before',\n",
    "    yaxis=dict(title='Difference'),\n",
    "    xaxis=dict(title='Hours')\n",
    ")\n",
    "\n",
    "data = [line1, line2]\n",
    "fig = go.Figure(data=data, layout=layout)\n",
    "# Plot and embed in ipython notebook!\n",
    "py.iplot(fig)"
   ]
  },
  {
   "cell_type": "code",
   "execution_count": null,
   "metadata": {
    "collapsed": false
   },
   "outputs": [],
   "source": []
  },
  {
   "cell_type": "code",
   "execution_count": null,
   "metadata": {
    "collapsed": true
   },
   "outputs": [],
   "source": []
  },
  {
   "cell_type": "code",
   "execution_count": null,
   "metadata": {
    "collapsed": true
   },
   "outputs": [],
   "source": []
  }
 ],
 "metadata": {
  "anaconda-cloud": {},
  "kernelspec": {
   "display_name": "Python [conda root]",
   "language": "python",
   "name": "conda-root-py"
  },
  "language_info": {
   "codemirror_mode": {
    "name": "ipython",
    "version": 2
   },
   "file_extension": ".py",
   "mimetype": "text/x-python",
   "name": "python",
   "nbconvert_exporter": "python",
   "pygments_lexer": "ipython2",
   "version": "2.7.12"
  }
 },
 "nbformat": 4,
 "nbformat_minor": 1
}

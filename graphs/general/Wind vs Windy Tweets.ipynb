{
 "cells": [
  {
   "cell_type": "code",
   "execution_count": 1,
   "metadata": {
    "collapsed": true
   },
   "outputs": [],
   "source": [
    "##WIND Vs Windy Tweets"
   ]
  },
  {
   "cell_type": "code",
   "execution_count": 2,
   "metadata": {
    "collapsed": true
   },
   "outputs": [],
   "source": [
    "import scipy\n",
    "import numpy as np\n",
    "import pandas as pd\n",
    "import plotly.plotly as py\n",
    "# import visplots\n",
    "from plotly.graph_objs import *\n",
    "from plotly.offline import download_plotlyjs, init_notebook_mode, iplot\n",
    "from sklearn import preprocessing, metrics\n",
    "from sklearn.cross_validation import train_test_split, cross_val_score\n",
    "from sklearn.neighbors import KNeighborsClassifier\n",
    "from sklearn.ensemble import RandomForestClassifier\n",
    "from sklearn.tree import DecisionTreeClassifier\n",
    "from sklearn.grid_search import GridSearchCV, RandomizedSearchCV\n",
    "from scipy.stats.distributions import randint\n",
    "import plotly.graph_objs as go\n",
    "import plotly.tools as tls\n",
    "tls.set_credentials_file(username='cap7carps', api_key='d28TqBXnTSA80L2xctmI')\n",
    "from numpy import arange,array,ones\n",
    "from scipy import stats"
   ]
  },
  {
   "cell_type": "code",
   "execution_count": 52,
   "metadata": {
    "collapsed": false
   },
   "outputs": [],
   "source": [
    "weatherFrame = pd.read_pickle(r'C:\\GIT\\weatherproj\\Weather\\weather_data.pki')"
   ]
  },
  {
   "cell_type": "code",
   "execution_count": 53,
   "metadata": {
    "collapsed": true
   },
   "outputs": [],
   "source": [
    "with open (r'C:\\GIT\\weatherproj\\Weather\\glastweetsy.json', 'rb') as glas:\n",
    "    gdata = glas.readlines()\n",
    "\n",
    "gdata = map(lambda x: x.rstrip(), gdata)\n",
    "\n",
    "gdatajson = \"[\" + ','.join(gdata) + \"]\"\n",
    "\n",
    "glasgow = pd.read_json(gdatajson)"
   ]
  },
  {
   "cell_type": "code",
   "execution_count": 155,
   "metadata": {
    "collapsed": false
   },
   "outputs": [],
   "source": [
    "with open (r'C:\\GIT\\weatherproj\\Weather\\london_tweets.json', 'rb') as lon:\n",
    "    data = lon.readlines()\n",
    "\n",
    "data = map(lambda x: x.rstrip(), data)\n",
    "\n",
    "datajson = \"[\" + ','.join(data) + \"]\"\n",
    "\n",
    "london = pd.read_json(datajson)"
   ]
  },
  {
   "cell_type": "code",
   "execution_count": 55,
   "metadata": {
    "collapsed": false
   },
   "outputs": [
    {
     "data": {
      "text/html": [
       "<div>\n",
       "<table border=\"1\" class=\"dataframe\">\n",
       "  <thead>\n",
       "    <tr style=\"text-align: right;\">\n",
       "      <th></th>\n",
       "      <th>Cold</th>\n",
       "      <th>Rain</th>\n",
       "      <th>W1</th>\n",
       "      <th>W2</th>\n",
       "      <th>Warm</th>\n",
       "      <th>Windy</th>\n",
       "      <th>_id</th>\n",
       "      <th>city</th>\n",
       "      <th>coordinates</th>\n",
       "      <th>created_at</th>\n",
       "      <th>date_time_period</th>\n",
       "      <th>text</th>\n",
       "    </tr>\n",
       "  </thead>\n",
       "  <tbody>\n",
       "    <tr>\n",
       "      <th>0</th>\n",
       "      <td>Y</td>\n",
       "      <td>N</td>\n",
       "      <td>Y</td>\n",
       "      <td>Y</td>\n",
       "      <td>N</td>\n",
       "      <td>N</td>\n",
       "      <td>{u'$oid': u'586b64f713dc7218c8ac3ba9'}</td>\n",
       "      <td>Glasgow</td>\n",
       "      <td>None</td>\n",
       "      <td>{u'$date': u'2016-12-08T14:49:54.000Z'}</td>\n",
       "      <td>{u'$date': u'2016-12-08T12:00:00.000Z'}</td>\n",
       "      <td>Nice graphic though hey?</td>\n",
       "    </tr>\n",
       "    <tr>\n",
       "      <th>1</th>\n",
       "      <td>Y</td>\n",
       "      <td>N</td>\n",
       "      <td>Y</td>\n",
       "      <td>Y</td>\n",
       "      <td>N</td>\n",
       "      <td>N</td>\n",
       "      <td>{u'$oid': u'586b64f713dc7218c8ac3bb9'}</td>\n",
       "      <td>Glasgow</td>\n",
       "      <td>None</td>\n",
       "      <td>{u'$date': u'2016-12-08T14:53:42.000Z'}</td>\n",
       "      <td>{u'$date': u'2016-12-08T12:00:00.000Z'}</td>\n",
       "      <td>We're counting down the days till Christmas he...</td>\n",
       "    </tr>\n",
       "    <tr>\n",
       "      <th>2</th>\n",
       "      <td>Y</td>\n",
       "      <td>N</td>\n",
       "      <td>Y</td>\n",
       "      <td>Y</td>\n",
       "      <td>N</td>\n",
       "      <td>N</td>\n",
       "      <td>{u'$oid': u'586b64f713dc7218c8ac3c12'}</td>\n",
       "      <td>Glasgow</td>\n",
       "      <td>{u'type': u'Point', u'coordinates': [-3.1603, ...</td>\n",
       "      <td>{u'$date': u'2016-12-08T15:02:22.000Z'}</td>\n",
       "      <td>{u'$date': u'2016-12-08T15:00:00.000Z'}</td>\n",
       "      <td>It's Kate Moss bitches! 🙌❤️\\n.\\n#markvice #ma...</td>\n",
       "    </tr>\n",
       "    <tr>\n",
       "      <th>3</th>\n",
       "      <td>N</td>\n",
       "      <td>N</td>\n",
       "      <td>Y</td>\n",
       "      <td>Y</td>\n",
       "      <td>N</td>\n",
       "      <td>Y</td>\n",
       "      <td>{u'$oid': u'586b64f713dc7218c8ac3c44'}</td>\n",
       "      <td>Glasgow</td>\n",
       "      <td>None</td>\n",
       "      <td>{u'$date': u'2016-12-08T15:07:26.000Z'}</td>\n",
       "      <td>{u'$date': u'2016-12-08T15:00:00.000Z'}</td>\n",
       "      <td>\"aspens shiver in the wind - transcend-ent, i...</td>\n",
       "    </tr>\n",
       "    <tr>\n",
       "      <th>4</th>\n",
       "      <td>N</td>\n",
       "      <td>N</td>\n",
       "      <td>Y</td>\n",
       "      <td>Y</td>\n",
       "      <td>N</td>\n",
       "      <td>Y</td>\n",
       "      <td>{u'$oid': u'586b64f713dc7218c8ac3c80'}</td>\n",
       "      <td>Glasgow</td>\n",
       "      <td>{u'type': u'Point', u'coordinates': [-4.25, 55...</td>\n",
       "      <td>{u'$date': u'2016-12-08T15:14:32.000Z'}</td>\n",
       "      <td>{u'$date': u'2016-12-08T15:00:00.000Z'}</td>\n",
       "      <td>overcast clouds -&amp;gt; broken clouds\\nhumidity ...</td>\n",
       "    </tr>\n",
       "  </tbody>\n",
       "</table>\n",
       "</div>"
      ],
      "text/plain": [
       "  Cold Rain W1 W2 Warm Windy                                     _id     city  \\\n",
       "0    Y    N  Y  Y    N     N  {u'$oid': u'586b64f713dc7218c8ac3ba9'}  Glasgow   \n",
       "1    Y    N  Y  Y    N     N  {u'$oid': u'586b64f713dc7218c8ac3bb9'}  Glasgow   \n",
       "2    Y    N  Y  Y    N     N  {u'$oid': u'586b64f713dc7218c8ac3c12'}  Glasgow   \n",
       "3    N    N  Y  Y    N     Y  {u'$oid': u'586b64f713dc7218c8ac3c44'}  Glasgow   \n",
       "4    N    N  Y  Y    N     Y  {u'$oid': u'586b64f713dc7218c8ac3c80'}  Glasgow   \n",
       "\n",
       "                                         coordinates  \\\n",
       "0                                               None   \n",
       "1                                               None   \n",
       "2  {u'type': u'Point', u'coordinates': [-3.1603, ...   \n",
       "3                                               None   \n",
       "4  {u'type': u'Point', u'coordinates': [-4.25, 55...   \n",
       "\n",
       "                                created_at  \\\n",
       "0  {u'$date': u'2016-12-08T14:49:54.000Z'}   \n",
       "1  {u'$date': u'2016-12-08T14:53:42.000Z'}   \n",
       "2  {u'$date': u'2016-12-08T15:02:22.000Z'}   \n",
       "3  {u'$date': u'2016-12-08T15:07:26.000Z'}   \n",
       "4  {u'$date': u'2016-12-08T15:14:32.000Z'}   \n",
       "\n",
       "                          date_time_period  \\\n",
       "0  {u'$date': u'2016-12-08T12:00:00.000Z'}   \n",
       "1  {u'$date': u'2016-12-08T12:00:00.000Z'}   \n",
       "2  {u'$date': u'2016-12-08T15:00:00.000Z'}   \n",
       "3  {u'$date': u'2016-12-08T15:00:00.000Z'}   \n",
       "4  {u'$date': u'2016-12-08T15:00:00.000Z'}   \n",
       "\n",
       "                                                text  \n",
       "0                           Nice graphic though hey?  \n",
       "1  We're counting down the days till Christmas he...  \n",
       "2  It's Kate Moss bitches! 🙌❤️\\n.\\n#markvice #ma...  \n",
       "3   \"aspens shiver in the wind - transcend-ent, i...  \n",
       "4  overcast clouds -&gt; broken clouds\\nhumidity ...  "
      ]
     },
     "execution_count": 55,
     "metadata": {},
     "output_type": "execute_result"
    }
   ],
   "source": [
    "glasgow.head()"
   ]
  },
  {
   "cell_type": "code",
   "execution_count": 101,
   "metadata": {
    "collapsed": false
   },
   "outputs": [
    {
     "data": {
      "text/html": [
       "<div>\n",
       "<table border=\"1\" class=\"dataframe\">\n",
       "  <thead>\n",
       "    <tr style=\"text-align: right;\">\n",
       "      <th></th>\n",
       "      <th>avg_rain_prob</th>\n",
       "      <th>avg_temp_frc</th>\n",
       "      <th>forecast_period</th>\n",
       "      <th>avg_temp_obs</th>\n",
       "      <th>avg_ws_obs</th>\n",
       "      <th>avg_temp_dif</th>\n",
       "      <th>rain_accuracy</th>\n",
       "    </tr>\n",
       "    <tr>\n",
       "      <th>city</th>\n",
       "      <th></th>\n",
       "      <th></th>\n",
       "      <th></th>\n",
       "      <th></th>\n",
       "      <th></th>\n",
       "      <th></th>\n",
       "      <th></th>\n",
       "    </tr>\n",
       "  </thead>\n",
       "  <tbody>\n",
       "    <tr>\n",
       "      <th>glasgow</th>\n",
       "      <td>27.126554</td>\n",
       "      <td>6.399011</td>\n",
       "      <td>51.194350</td>\n",
       "      <td>6.705532</td>\n",
       "      <td>10.258969</td>\n",
       "      <td>1.177688</td>\n",
       "      <td>0.710703</td>\n",
       "    </tr>\n",
       "    <tr>\n",
       "      <th>london</th>\n",
       "      <td>13.553618</td>\n",
       "      <td>6.997349</td>\n",
       "      <td>51.294493</td>\n",
       "      <td>6.935751</td>\n",
       "      <td>7.370902</td>\n",
       "      <td>1.205872</td>\n",
       "      <td>0.789105</td>\n",
       "    </tr>\n",
       "  </tbody>\n",
       "</table>\n",
       "</div>"
      ],
      "text/plain": [
       "         avg_rain_prob  avg_temp_frc  forecast_period  avg_temp_obs  \\\n",
       "city                                                                  \n",
       "glasgow      27.126554      6.399011        51.194350      6.705532   \n",
       "london       13.553618      6.997349        51.294493      6.935751   \n",
       "\n",
       "         avg_ws_obs  avg_temp_dif  rain_accuracy  \n",
       "city                                              \n",
       "glasgow   10.258969      1.177688       0.710703  \n",
       "london     7.370902      1.205872       0.789105  "
      ]
     },
     "execution_count": 101,
     "metadata": {},
     "output_type": "execute_result"
    }
   ],
   "source": [
    "weatherFrame.groupby('city').mean()"
   ]
  },
  {
   "cell_type": "code",
   "execution_count": 123,
   "metadata": {
    "collapsed": false
   },
   "outputs": [],
   "source": [
    "windvals = weatherFrame.ix[weatherFrame['city']=='glasgow',['date_time_period', 'avg_ws_obs']].groupby('date_time_period').mean()"
   ]
  },
  {
   "cell_type": "code",
   "execution_count": 124,
   "metadata": {
    "collapsed": false
   },
   "outputs": [
    {
     "data": {
      "text/html": [
       "<div>\n",
       "<table border=\"1\" class=\"dataframe\">\n",
       "  <thead>\n",
       "    <tr style=\"text-align: right;\">\n",
       "      <th></th>\n",
       "      <th>avg_ws_obs</th>\n",
       "    </tr>\n",
       "    <tr>\n",
       "      <th>date_time_period</th>\n",
       "      <th></th>\n",
       "    </tr>\n",
       "  </thead>\n",
       "  <tbody>\n",
       "    <tr>\n",
       "      <th>2016-12-08 09:00:00</th>\n",
       "      <td>4.666667</td>\n",
       "    </tr>\n",
       "    <tr>\n",
       "      <th>2016-12-08 12:00:00</th>\n",
       "      <td>9.666667</td>\n",
       "    </tr>\n",
       "    <tr>\n",
       "      <th>2016-12-08 15:00:00</th>\n",
       "      <td>7.333333</td>\n",
       "    </tr>\n",
       "    <tr>\n",
       "      <th>2016-12-08 18:00:00</th>\n",
       "      <td>5.000000</td>\n",
       "    </tr>\n",
       "    <tr>\n",
       "      <th>2016-12-08 21:00:00</th>\n",
       "      <td>2.666667</td>\n",
       "    </tr>\n",
       "  </tbody>\n",
       "</table>\n",
       "</div>"
      ],
      "text/plain": [
       "                     avg_ws_obs\n",
       "date_time_period               \n",
       "2016-12-08 09:00:00    4.666667\n",
       "2016-12-08 12:00:00    9.666667\n",
       "2016-12-08 15:00:00    7.333333\n",
       "2016-12-08 18:00:00    5.000000\n",
       "2016-12-08 21:00:00    2.666667"
      ]
     },
     "execution_count": 124,
     "metadata": {},
     "output_type": "execute_result"
    }
   ],
   "source": [
    "windvals.head()"
   ]
  },
  {
   "cell_type": "code",
   "execution_count": null,
   "metadata": {
    "collapsed": true
   },
   "outputs": [],
   "source": []
  },
  {
   "cell_type": "code",
   "execution_count": 125,
   "metadata": {
    "collapsed": false
   },
   "outputs": [
    {
     "data": {
      "text/plain": [
       "dict"
      ]
     },
     "execution_count": 125,
     "metadata": {},
     "output_type": "execute_result"
    }
   ],
   "source": [
    "type(london.ix[0,9])"
   ]
  },
  {
   "cell_type": "code",
   "execution_count": 126,
   "metadata": {
    "collapsed": false
   },
   "outputs": [
    {
     "data": {
      "text/plain": [
       "pandas.tslib.Timestamp"
      ]
     },
     "execution_count": 126,
     "metadata": {},
     "output_type": "execute_result"
    }
   ],
   "source": [
    "type(weatherFrame.ix[0,3])"
   ]
  },
  {
   "cell_type": "code",
   "execution_count": 127,
   "metadata": {
    "collapsed": true
   },
   "outputs": [],
   "source": [
    "glasgow2 = pd.read_pickle(r'C:\\GIT\\weatherproj\\Weather\\glaswindpickle')"
   ]
  },
  {
   "cell_type": "code",
   "execution_count": 128,
   "metadata": {
    "collapsed": false
   },
   "outputs": [
    {
     "data": {
      "text/html": [
       "<div>\n",
       "<table border=\"1\" class=\"dataframe\">\n",
       "  <thead>\n",
       "    <tr style=\"text-align: right;\">\n",
       "      <th></th>\n",
       "      <th>Cold</th>\n",
       "      <th>Rain</th>\n",
       "      <th>W1</th>\n",
       "      <th>W2</th>\n",
       "      <th>Warm</th>\n",
       "      <th>Windy</th>\n",
       "      <th>_id</th>\n",
       "      <th>city</th>\n",
       "      <th>coordinates</th>\n",
       "      <th>created_at</th>\n",
       "      <th>date_time_period</th>\n",
       "      <th>text</th>\n",
       "    </tr>\n",
       "  </thead>\n",
       "  <tbody>\n",
       "    <tr>\n",
       "      <th>0</th>\n",
       "      <td>N</td>\n",
       "      <td>Y</td>\n",
       "      <td>Y</td>\n",
       "      <td>Y</td>\n",
       "      <td>N</td>\n",
       "      <td>Y</td>\n",
       "      <td>586ce27c13dc7211f4de70ca</td>\n",
       "      <td>Glasgow</td>\n",
       "      <td>{u'type': u'Point', u'coordinates': [-3.143, 5...</td>\n",
       "      <td>2016-12-08 15:00:47</td>\n",
       "      <td>2016-12-08 15:00:00</td>\n",
       "      <td>15:00 GMT: Temperature: -, Wind: , Humidity: ,...</td>\n",
       "    </tr>\n",
       "    <tr>\n",
       "      <th>1</th>\n",
       "      <td>N</td>\n",
       "      <td>N</td>\n",
       "      <td>Y</td>\n",
       "      <td>Y</td>\n",
       "      <td>N</td>\n",
       "      <td>Y</td>\n",
       "      <td>586ce27c13dc7211f4de710b</td>\n",
       "      <td>Glasgow</td>\n",
       "      <td>None</td>\n",
       "      <td>2016-12-08 15:07:26</td>\n",
       "      <td>2016-12-08 15:00:00</td>\n",
       "      <td>\"aspens shiver in the wind - transcend-ent, i...</td>\n",
       "    </tr>\n",
       "    <tr>\n",
       "      <th>2</th>\n",
       "      <td>N</td>\n",
       "      <td>N</td>\n",
       "      <td>Y</td>\n",
       "      <td>Y</td>\n",
       "      <td>N</td>\n",
       "      <td>Y</td>\n",
       "      <td>586ce27c13dc7211f4de725c</td>\n",
       "      <td>Glasgow</td>\n",
       "      <td>{u'type': u'Point', u'coordinates': [-4.1, 55....</td>\n",
       "      <td>2016-12-08 15:47:25</td>\n",
       "      <td>2016-12-08 15:00:00</td>\n",
       "      <td>current weather in Blantyre: broken clouds, 10...</td>\n",
       "    </tr>\n",
       "    <tr>\n",
       "      <th>3</th>\n",
       "      <td>N</td>\n",
       "      <td>N</td>\n",
       "      <td>Y</td>\n",
       "      <td>Y</td>\n",
       "      <td>N</td>\n",
       "      <td>Y</td>\n",
       "      <td>586ce27c13dc7211f4de7260</td>\n",
       "      <td>Glasgow</td>\n",
       "      <td>{u'type': u'Point', u'coordinates': [-4.25, 55...</td>\n",
       "      <td>2016-12-08 15:47:51</td>\n",
       "      <td>2016-12-08 15:00:00</td>\n",
       "      <td>current weather in Glasgow: broken clouds, 10°...</td>\n",
       "    </tr>\n",
       "    <tr>\n",
       "      <th>4</th>\n",
       "      <td>N</td>\n",
       "      <td>Y</td>\n",
       "      <td>Y</td>\n",
       "      <td>Y</td>\n",
       "      <td>N</td>\n",
       "      <td>Y</td>\n",
       "      <td>586ce27c13dc7211f4de72fb</td>\n",
       "      <td>Glasgow</td>\n",
       "      <td>{u'type': u'Point', u'coordinates': [-3.143, 5...</td>\n",
       "      <td>2016-12-08 16:03:11</td>\n",
       "      <td>2016-12-08 15:00:00</td>\n",
       "      <td>16:00 GMT: Temperature: -, Wind: , Humidity: ,...</td>\n",
       "    </tr>\n",
       "  </tbody>\n",
       "</table>\n",
       "</div>"
      ],
      "text/plain": [
       "  Cold Rain W1 W2 Warm Windy                       _id     city  \\\n",
       "0    N    Y  Y  Y    N     Y  586ce27c13dc7211f4de70ca  Glasgow   \n",
       "1    N    N  Y  Y    N     Y  586ce27c13dc7211f4de710b  Glasgow   \n",
       "2    N    N  Y  Y    N     Y  586ce27c13dc7211f4de725c  Glasgow   \n",
       "3    N    N  Y  Y    N     Y  586ce27c13dc7211f4de7260  Glasgow   \n",
       "4    N    Y  Y  Y    N     Y  586ce27c13dc7211f4de72fb  Glasgow   \n",
       "\n",
       "                                         coordinates          created_at  \\\n",
       "0  {u'type': u'Point', u'coordinates': [-3.143, 5... 2016-12-08 15:00:47   \n",
       "1                                               None 2016-12-08 15:07:26   \n",
       "2  {u'type': u'Point', u'coordinates': [-4.1, 55.... 2016-12-08 15:47:25   \n",
       "3  {u'type': u'Point', u'coordinates': [-4.25, 55... 2016-12-08 15:47:51   \n",
       "4  {u'type': u'Point', u'coordinates': [-3.143, 5... 2016-12-08 16:03:11   \n",
       "\n",
       "     date_time_period                                               text  \n",
       "0 2016-12-08 15:00:00  15:00 GMT: Temperature: -, Wind: , Humidity: ,...  \n",
       "1 2016-12-08 15:00:00   \"aspens shiver in the wind - transcend-ent, i...  \n",
       "2 2016-12-08 15:00:00  current weather in Blantyre: broken clouds, 10...  \n",
       "3 2016-12-08 15:00:00  current weather in Glasgow: broken clouds, 10°...  \n",
       "4 2016-12-08 15:00:00  16:00 GMT: Temperature: -, Wind: , Humidity: ,...  "
      ]
     },
     "execution_count": 128,
     "metadata": {},
     "output_type": "execute_result"
    }
   ],
   "source": [
    "glasgow2.head()"
   ]
  },
  {
   "cell_type": "code",
   "execution_count": 129,
   "metadata": {
    "collapsed": false
   },
   "outputs": [
    {
     "data": {
      "text/html": [
       "<div>\n",
       "<table border=\"1\" class=\"dataframe\">\n",
       "  <thead>\n",
       "    <tr style=\"text-align: right;\">\n",
       "      <th></th>\n",
       "      <th>text</th>\n",
       "    </tr>\n",
       "    <tr>\n",
       "      <th>date_time_period</th>\n",
       "      <th></th>\n",
       "    </tr>\n",
       "  </thead>\n",
       "  <tbody>\n",
       "    <tr>\n",
       "      <th>2016-12-08 15:00:00</th>\n",
       "      <td>6</td>\n",
       "    </tr>\n",
       "    <tr>\n",
       "      <th>2016-12-08 18:00:00</th>\n",
       "      <td>4</td>\n",
       "    </tr>\n",
       "    <tr>\n",
       "      <th>2016-12-08 21:00:00</th>\n",
       "      <td>3</td>\n",
       "    </tr>\n",
       "    <tr>\n",
       "      <th>2016-12-09 00:00:00</th>\n",
       "      <td>3</td>\n",
       "    </tr>\n",
       "    <tr>\n",
       "      <th>2016-12-09 03:00:00</th>\n",
       "      <td>3</td>\n",
       "    </tr>\n",
       "  </tbody>\n",
       "</table>\n",
       "</div>"
      ],
      "text/plain": [
       "                     text\n",
       "date_time_period         \n",
       "2016-12-08 15:00:00     6\n",
       "2016-12-08 18:00:00     4\n",
       "2016-12-08 21:00:00     3\n",
       "2016-12-09 00:00:00     3\n",
       "2016-12-09 03:00:00     3"
      ]
     },
     "execution_count": 129,
     "metadata": {},
     "output_type": "execute_result"
    }
   ],
   "source": [
    "gwindcount = glasgow2.ix[:,['date_time_period','text']].groupby('date_time_period').agg('count')\n",
    "gwindcount.head()"
   ]
  },
  {
   "cell_type": "code",
   "execution_count": 168,
   "metadata": {
    "collapsed": false
   },
   "outputs": [
    {
     "data": {
      "text/html": [
       "<div>\n",
       "<table border=\"1\" class=\"dataframe\">\n",
       "  <thead>\n",
       "    <tr style=\"text-align: right;\">\n",
       "      <th></th>\n",
       "      <th>text</th>\n",
       "    </tr>\n",
       "    <tr>\n",
       "      <th>date_time_period</th>\n",
       "      <th></th>\n",
       "    </tr>\n",
       "  </thead>\n",
       "  <tbody>\n",
       "    <tr>\n",
       "      <th>2016-12-07 18:00:00</th>\n",
       "      <td>7</td>\n",
       "    </tr>\n",
       "    <tr>\n",
       "      <th>2016-12-07 21:00:00</th>\n",
       "      <td>10</td>\n",
       "    </tr>\n",
       "    <tr>\n",
       "      <th>2016-12-08 00:00:00</th>\n",
       "      <td>6</td>\n",
       "    </tr>\n",
       "    <tr>\n",
       "      <th>2016-12-08 03:00:00</th>\n",
       "      <td>8</td>\n",
       "    </tr>\n",
       "    <tr>\n",
       "      <th>2016-12-08 06:00:00</th>\n",
       "      <td>12</td>\n",
       "    </tr>\n",
       "  </tbody>\n",
       "</table>\n",
       "</div>"
      ],
      "text/plain": [
       "                     text\n",
       "date_time_period         \n",
       "2016-12-07 18:00:00     7\n",
       "2016-12-07 21:00:00    10\n",
       "2016-12-08 00:00:00     6\n",
       "2016-12-08 03:00:00     8\n",
       "2016-12-08 06:00:00    12"
      ]
     },
     "execution_count": 168,
     "metadata": {},
     "output_type": "execute_result"
    }
   ],
   "source": [
    "london2 = pd.read_pickle(r'C:\\GIT\\weatherproj\\Weather\\lonwindpickle.pki')\n",
    "lwindcount = london2.ix[:,['date_time_period','text']].groupby('date_time_period').agg('count')\n",
    "lwindcount.head()"
   ]
  },
  {
   "cell_type": "code",
   "execution_count": 158,
   "metadata": {
    "collapsed": false
   },
   "outputs": [
    {
     "data": {
      "text/html": [
       "<div>\n",
       "<table border=\"1\" class=\"dataframe\">\n",
       "  <thead>\n",
       "    <tr style=\"text-align: right;\">\n",
       "      <th></th>\n",
       "      <th>Cold</th>\n",
       "      <th>Rain</th>\n",
       "      <th>W1</th>\n",
       "      <th>W2</th>\n",
       "      <th>Warm</th>\n",
       "      <th>Windy</th>\n",
       "      <th>_id</th>\n",
       "      <th>city</th>\n",
       "      <th>coordinates</th>\n",
       "      <th>created_at</th>\n",
       "      <th>date_time_period</th>\n",
       "      <th>text</th>\n",
       "    </tr>\n",
       "  </thead>\n",
       "  <tbody>\n",
       "    <tr>\n",
       "      <th>0</th>\n",
       "      <td>N</td>\n",
       "      <td>Y</td>\n",
       "      <td>Y</td>\n",
       "      <td>Y</td>\n",
       "      <td>N</td>\n",
       "      <td>Y</td>\n",
       "      <td>586b64e18d709f1f100a0979</td>\n",
       "      <td>london</td>\n",
       "      <td>{u'type': u'Point', u'coordinates': [-0.237222...</td>\n",
       "      <td>2016-12-07 18:59:27</td>\n",
       "      <td>2016-12-07 18:00:00</td>\n",
       "      <td>Changeable, some precipitation. Now:12.1C - Ra...</td>\n",
       "    </tr>\n",
       "    <tr>\n",
       "      <th>1</th>\n",
       "      <td>N</td>\n",
       "      <td>Y</td>\n",
       "      <td>Y</td>\n",
       "      <td>Y</td>\n",
       "      <td>N</td>\n",
       "      <td>Y</td>\n",
       "      <td>586b64e18d709f1f100a09d2</td>\n",
       "      <td>london</td>\n",
       "      <td>{u'type': u'Point', u'coordinates': [-0.469791...</td>\n",
       "      <td>2016-12-07 19:00:42</td>\n",
       "      <td>2016-12-07 18:00:00</td>\n",
       "      <td>18:52 Temp. 11.1°C, Hum. 85%, Dewp. 8°C, Bar. ...</td>\n",
       "    </tr>\n",
       "    <tr>\n",
       "      <th>2</th>\n",
       "      <td>N</td>\n",
       "      <td>N</td>\n",
       "      <td>Y</td>\n",
       "      <td>Y</td>\n",
       "      <td>N</td>\n",
       "      <td>Y</td>\n",
       "      <td>586b64e28d709f1f100a1510</td>\n",
       "      <td>london</td>\n",
       "      <td>None</td>\n",
       "      <td>2016-12-07 19:40:01</td>\n",
       "      <td>2016-12-07 18:00:00</td>\n",
       "      <td>just to personally wind you up Kano?</td>\n",
       "    </tr>\n",
       "    <tr>\n",
       "      <th>3</th>\n",
       "      <td>N</td>\n",
       "      <td>Y</td>\n",
       "      <td>Y</td>\n",
       "      <td>Y</td>\n",
       "      <td>N</td>\n",
       "      <td>Y</td>\n",
       "      <td>586b64e38d709f1f100a1a87</td>\n",
       "      <td>london</td>\n",
       "      <td>{u'type': u'Point', u'coordinates': [-0.237222...</td>\n",
       "      <td>2016-12-07 19:59:29</td>\n",
       "      <td>2016-12-07 18:00:00</td>\n",
       "      <td>Changeable, some precipitation. Now:12.3C - Ra...</td>\n",
       "    </tr>\n",
       "    <tr>\n",
       "      <th>4</th>\n",
       "      <td>N</td>\n",
       "      <td>Y</td>\n",
       "      <td>Y</td>\n",
       "      <td>Y</td>\n",
       "      <td>N</td>\n",
       "      <td>Y</td>\n",
       "      <td>586b64e38d709f1f100a1af9</td>\n",
       "      <td>london</td>\n",
       "      <td>{u'type': u'Point', u'coordinates': [-0.469791...</td>\n",
       "      <td>2016-12-07 20:00:44</td>\n",
       "      <td>2016-12-07 18:00:00</td>\n",
       "      <td>19:53 Temp. 10.9°C, Hum. 85%, Dewp. 7.8°C, Bar...</td>\n",
       "    </tr>\n",
       "  </tbody>\n",
       "</table>\n",
       "</div>"
      ],
      "text/plain": [
       "  Cold Rain W1 W2 Warm Windy                       _id    city  \\\n",
       "0    N    Y  Y  Y    N     Y  586b64e18d709f1f100a0979  london   \n",
       "1    N    Y  Y  Y    N     Y  586b64e18d709f1f100a09d2  london   \n",
       "2    N    N  Y  Y    N     Y  586b64e28d709f1f100a1510  london   \n",
       "3    N    Y  Y  Y    N     Y  586b64e38d709f1f100a1a87  london   \n",
       "4    N    Y  Y  Y    N     Y  586b64e38d709f1f100a1af9  london   \n",
       "\n",
       "                                         coordinates          created_at  \\\n",
       "0  {u'type': u'Point', u'coordinates': [-0.237222... 2016-12-07 18:59:27   \n",
       "1  {u'type': u'Point', u'coordinates': [-0.469791... 2016-12-07 19:00:42   \n",
       "2                                               None 2016-12-07 19:40:01   \n",
       "3  {u'type': u'Point', u'coordinates': [-0.237222... 2016-12-07 19:59:29   \n",
       "4  {u'type': u'Point', u'coordinates': [-0.469791... 2016-12-07 20:00:44   \n",
       "\n",
       "     date_time_period                                               text  \n",
       "0 2016-12-07 18:00:00  Changeable, some precipitation. Now:12.1C - Ra...  \n",
       "1 2016-12-07 18:00:00  18:52 Temp. 11.1°C, Hum. 85%, Dewp. 8°C, Bar. ...  \n",
       "2 2016-12-07 18:00:00               just to personally wind you up Kano?  \n",
       "3 2016-12-07 18:00:00  Changeable, some precipitation. Now:12.3C - Ra...  \n",
       "4 2016-12-07 18:00:00  19:53 Temp. 10.9°C, Hum. 85%, Dewp. 7.8°C, Bar...  "
      ]
     },
     "execution_count": 158,
     "metadata": {},
     "output_type": "execute_result"
    }
   ],
   "source": [
    "london2.head()"
   ]
  },
  {
   "cell_type": "code",
   "execution_count": 133,
   "metadata": {
    "collapsed": false
   },
   "outputs": [],
   "source": [
    "gvals = gwindcount.text.values"
   ]
  },
  {
   "cell_type": "code",
   "execution_count": 134,
   "metadata": {
    "collapsed": false
   },
   "outputs": [],
   "source": [
    "dates = gwindcount.index"
   ]
  },
  {
   "cell_type": "code",
   "execution_count": 136,
   "metadata": {
    "collapsed": false
   },
   "outputs": [],
   "source": [
    "glaswindcount = windvals.join(gwindcount)"
   ]
  },
  {
   "cell_type": "code",
   "execution_count": 137,
   "metadata": {
    "collapsed": false
   },
   "outputs": [
    {
     "data": {
      "text/html": [
       "<div>\n",
       "<table border=\"1\" class=\"dataframe\">\n",
       "  <thead>\n",
       "    <tr style=\"text-align: right;\">\n",
       "      <th></th>\n",
       "      <th>avg_ws_obs</th>\n",
       "      <th>text</th>\n",
       "    </tr>\n",
       "    <tr>\n",
       "      <th>date_time_period</th>\n",
       "      <th></th>\n",
       "      <th></th>\n",
       "    </tr>\n",
       "  </thead>\n",
       "  <tbody>\n",
       "    <tr>\n",
       "      <th>2016-12-08 09:00:00</th>\n",
       "      <td>4.666667</td>\n",
       "      <td>NaN</td>\n",
       "    </tr>\n",
       "    <tr>\n",
       "      <th>2016-12-08 12:00:00</th>\n",
       "      <td>9.666667</td>\n",
       "      <td>NaN</td>\n",
       "    </tr>\n",
       "    <tr>\n",
       "      <th>2016-12-08 15:00:00</th>\n",
       "      <td>7.333333</td>\n",
       "      <td>6.0</td>\n",
       "    </tr>\n",
       "    <tr>\n",
       "      <th>2016-12-08 18:00:00</th>\n",
       "      <td>5.000000</td>\n",
       "      <td>4.0</td>\n",
       "    </tr>\n",
       "    <tr>\n",
       "      <th>2016-12-08 21:00:00</th>\n",
       "      <td>2.666667</td>\n",
       "      <td>3.0</td>\n",
       "    </tr>\n",
       "  </tbody>\n",
       "</table>\n",
       "</div>"
      ],
      "text/plain": [
       "                     avg_ws_obs  text\n",
       "date_time_period                     \n",
       "2016-12-08 09:00:00    4.666667   NaN\n",
       "2016-12-08 12:00:00    9.666667   NaN\n",
       "2016-12-08 15:00:00    7.333333   6.0\n",
       "2016-12-08 18:00:00    5.000000   4.0\n",
       "2016-12-08 21:00:00    2.666667   3.0"
      ]
     },
     "execution_count": 137,
     "metadata": {},
     "output_type": "execute_result"
    }
   ],
   "source": [
    "glaswindcount.head()"
   ]
  },
  {
   "cell_type": "code",
   "execution_count": 138,
   "metadata": {
    "collapsed": false
   },
   "outputs": [
    {
     "data": {
      "text/plain": [
       "array([ nan,  nan,   6.,   4.,   3.,   3.,   3.,   5.,   5.,   6.,   5.,\n",
       "         6.,   4.,   3.,   1.,  nan,  nan,  nan,  nan,  nan,  nan,  nan,\n",
       "        nan,  nan,  nan,  nan,   4.,  nan,   1.,  nan,  nan,   2.,  nan,\n",
       "         2.,   4.,  nan,  nan,  nan,  nan,   3.,  nan,   3.,   3.,   2.,\n",
       "         1.,  nan,  nan,  nan,   1.,   4.,   2.,  nan,  nan,  nan,  nan,\n",
       "         2.,  nan,   5.,   2.,  nan,   2.,  nan,  nan,   2.,   1.,   3.,\n",
       "         2.,  nan,   1.,  nan,  nan,   2.,  nan,   2.,   5.,  nan,  nan,\n",
       "         1.,   1.,   2.,   1.,   2.,   2.,  nan,  nan,  nan,  nan,   2.,\n",
       "         2.,   2.,   3.,   2.,  nan,  nan,  nan,   4.,   5.,   4.,   6.,\n",
       "        nan,  nan,  nan,  nan,  nan,  nan,  nan,  nan,  nan,  nan,  nan,\n",
       "        nan,  nan,  nan,  nan,  nan,  nan,  nan,  nan,  nan,  nan,   4.,\n",
       "         9.,  15.,   7.,   2.,   7.,   2.,   7.,   6.,  12.,   5.,   2.,\n",
       "         5.,  nan,  nan,   2.,   4.,   5.,   3.,   2.,   4.,   3.,   1.,\n",
       "         3.,   1.,   8.,  11.,   1.,   1.,  nan,  nan,   2.,   1.,   7.,\n",
       "         3.,   2.,   1.,  nan,  nan,   3.,   2.,   3.,   2.,   1.,   3.,\n",
       "        nan,  nan,   2.,  nan,   2.,   3.,  nan,   1.,  nan,  nan,   3.,\n",
       "         2.,   6.,   3.,  nan,   2.,  nan,  nan,   2.,   4.,   6.,   6.,\n",
       "         2.,   1.,   1.,  nan,   4.,   1.,   4.,   5.,   1.,   1.,  nan,\n",
       "        nan,   2.,   2.,   2.,   3.,  nan,  nan,   1.,  nan,  nan])"
      ]
     },
     "execution_count": 138,
     "metadata": {},
     "output_type": "execute_result"
    }
   ],
   "source": [
    "glaswindcount.text.values"
   ]
  },
  {
   "cell_type": "code",
   "execution_count": 184,
   "metadata": {
    "collapsed": false
   },
   "outputs": [
    {
     "data": {
      "text/html": [
       "<iframe id=\"igraph\" scrolling=\"no\" style=\"border:none;\" seamless=\"seamless\" src=\"https://plot.ly/~cap7carps/102.embed\" height=\"525px\" width=\"100%\"></iframe>"
      ],
      "text/plain": [
       "<plotly.tools.PlotlyDisplay object>"
      ]
     },
     "execution_count": 184,
     "metadata": {},
     "output_type": "execute_result"
    }
   ],
   "source": [
    "line1 = go.Scatter(\n",
    "    x = list(glaswindcount.index),\n",
    "    y = list(glaswindcount.avg_ws_obs.values),\n",
    "    mode = 'lines',\n",
    "    name = 'wind speed'\n",
    ")\n",
    "\n",
    "\n",
    "line2 = go.Scatter(\n",
    "    x = list(glaswindcount.index),\n",
    "    y = list(glaswindcount.text.values),\n",
    "    mode = 'lines',\n",
    "    name='Count of Wind Related Tweets',\n",
    "    yaxis='y2'\n",
    ")\n",
    "\n",
    "layout = go.Layout(\n",
    "    title='Count vs Speed',\n",
    "    \n",
    "    yaxis=dict(\n",
    "        title='Speed',\n",
    "        titlefont=dict(\n",
    "            color='rgb(0, 100, 200)'))\n",
    "    \n",
    ",    \n",
    "    xaxis=dict(title='Date')\n",
    ",\n",
    "    yaxis2=dict(\n",
    "        title='Count of Tweets',\n",
    "        titlefont=dict(\n",
    "            color='rgb(255,128,0)'\n",
    "        ),        \n",
    "        overlaying='y',\n",
    "        side='right'\n",
    "    ))\n",
    "\n",
    "data = [line1, line2]\n",
    "fig = go.Figure(data=data, layout=layout)\n",
    "# Plot and embed in ipython notebook!\n",
    "py.iplot(fig)"
   ]
  },
  {
   "cell_type": "code",
   "execution_count": 153,
   "metadata": {
    "collapsed": false
   },
   "outputs": [
    {
     "data": {
      "text/html": [
       "<iframe id=\"igraph\" scrolling=\"no\" style=\"border:none;\" seamless=\"seamless\" src=\"https://plot.ly/~cap7carps/76.embed\" height=\"525px\" width=\"100%\"></iframe>"
      ],
      "text/plain": [
       "<plotly.tools.PlotlyDisplay object>"
      ]
     },
     "execution_count": 153,
     "metadata": {},
     "output_type": "execute_result"
    }
   ],
   "source": [
    "import plotly.plotly as py\n",
    "import plotly.graph_objs as go\n",
    "\n",
    "trace1 = go.Scatter(\n",
    "    x = list(glaswindcount.index),\n",
    "    y = list(glaswindcount.avg_ws_obs.values),\n",
    "    name='Wind Speed'\n",
    ")\n",
    "trace2 = go.Scatter(\n",
    "    x = list(glaswindcount.index),\n",
    "    y = list(glaswindcount.text.values),\n",
    "    name='Count of Weather Related Tweets',\n",
    "    yaxis='y2'\n",
    ")\n",
    "data = [trace1, trace2]\n",
    "layout = go.Layout(\n",
    "    title='Glasgow - Wind Speed vs Wind Related Tweets',\n",
    "    yaxis=dict(\n",
    "        title='Wind Speed'\n",
    "    ),\n",
    "    yaxis2=dict(\n",
    "        title='Count of Tweets',\n",
    "        titlefont=dict(\n",
    "            color='rgb(0, 100, 200)'\n",
    "        ),        \n",
    "        overlaying='y',\n",
    "        side='right'\n",
    "    )\n",
    ")\n",
    "fig = go.Figure(data=data, layout=layout)\n",
    "py.iplot(fig)"
   ]
  },
  {
   "cell_type": "code",
   "execution_count": 161,
   "metadata": {
    "collapsed": false
   },
   "outputs": [
    {
     "data": {
      "text/html": [
       "<div>\n",
       "<table border=\"1\" class=\"dataframe\">\n",
       "  <thead>\n",
       "    <tr style=\"text-align: right;\">\n",
       "      <th></th>\n",
       "      <th>text</th>\n",
       "    </tr>\n",
       "    <tr>\n",
       "      <th>date_time_period</th>\n",
       "      <th></th>\n",
       "    </tr>\n",
       "  </thead>\n",
       "  <tbody>\n",
       "    <tr>\n",
       "      <th>2016-12-08 15:00:00</th>\n",
       "      <td>6</td>\n",
       "    </tr>\n",
       "    <tr>\n",
       "      <th>2016-12-08 18:00:00</th>\n",
       "      <td>4</td>\n",
       "    </tr>\n",
       "    <tr>\n",
       "      <th>2016-12-08 21:00:00</th>\n",
       "      <td>3</td>\n",
       "    </tr>\n",
       "    <tr>\n",
       "      <th>2016-12-09 00:00:00</th>\n",
       "      <td>3</td>\n",
       "    </tr>\n",
       "    <tr>\n",
       "      <th>2016-12-09 03:00:00</th>\n",
       "      <td>3</td>\n",
       "    </tr>\n",
       "  </tbody>\n",
       "</table>\n",
       "</div>"
      ],
      "text/plain": [
       "                     text\n",
       "date_time_period         \n",
       "2016-12-08 15:00:00     6\n",
       "2016-12-08 18:00:00     4\n",
       "2016-12-08 21:00:00     3\n",
       "2016-12-09 00:00:00     3\n",
       "2016-12-09 03:00:00     3"
      ]
     },
     "execution_count": 161,
     "metadata": {},
     "output_type": "execute_result"
    }
   ],
   "source": [
    "lwindcount.head()"
   ]
  },
  {
   "cell_type": "code",
   "execution_count": 162,
   "metadata": {
    "collapsed": true
   },
   "outputs": [],
   "source": [
    "lonwindvals = weatherFrame.ix[weatherFrame['city']=='london',['date_time_period', 'avg_ws_obs']].groupby('date_time_period').mean()"
   ]
  },
  {
   "cell_type": "code",
   "execution_count": 163,
   "metadata": {
    "collapsed": false
   },
   "outputs": [
    {
     "data": {
      "text/html": [
       "<div>\n",
       "<table border=\"1\" class=\"dataframe\">\n",
       "  <thead>\n",
       "    <tr style=\"text-align: right;\">\n",
       "      <th></th>\n",
       "      <th>avg_ws_obs</th>\n",
       "    </tr>\n",
       "    <tr>\n",
       "      <th>date_time_period</th>\n",
       "      <th></th>\n",
       "    </tr>\n",
       "  </thead>\n",
       "  <tbody>\n",
       "    <tr>\n",
       "      <th>2016-12-08 09:00:00</th>\n",
       "      <td>13.000000</td>\n",
       "    </tr>\n",
       "    <tr>\n",
       "      <th>2016-12-08 12:00:00</th>\n",
       "      <td>12.888889</td>\n",
       "    </tr>\n",
       "    <tr>\n",
       "      <th>2016-12-08 15:00:00</th>\n",
       "      <td>9.111111</td>\n",
       "    </tr>\n",
       "    <tr>\n",
       "      <th>2016-12-08 18:00:00</th>\n",
       "      <td>6.777778</td>\n",
       "    </tr>\n",
       "    <tr>\n",
       "      <th>2016-12-08 21:00:00</th>\n",
       "      <td>6.777778</td>\n",
       "    </tr>\n",
       "  </tbody>\n",
       "</table>\n",
       "</div>"
      ],
      "text/plain": [
       "                     avg_ws_obs\n",
       "date_time_period               \n",
       "2016-12-08 09:00:00   13.000000\n",
       "2016-12-08 12:00:00   12.888889\n",
       "2016-12-08 15:00:00    9.111111\n",
       "2016-12-08 18:00:00    6.777778\n",
       "2016-12-08 21:00:00    6.777778"
      ]
     },
     "execution_count": 163,
     "metadata": {},
     "output_type": "execute_result"
    }
   ],
   "source": [
    "lonwindvals.head()"
   ]
  },
  {
   "cell_type": "code",
   "execution_count": 169,
   "metadata": {
    "collapsed": true
   },
   "outputs": [],
   "source": [
    "londonboth = lwindcount.join(lonwindvals)"
   ]
  },
  {
   "cell_type": "code",
   "execution_count": 170,
   "metadata": {
    "collapsed": false
   },
   "outputs": [
    {
     "data": {
      "text/html": [
       "<div>\n",
       "<table border=\"1\" class=\"dataframe\">\n",
       "  <thead>\n",
       "    <tr style=\"text-align: right;\">\n",
       "      <th></th>\n",
       "      <th>text</th>\n",
       "      <th>avg_ws_obs</th>\n",
       "    </tr>\n",
       "    <tr>\n",
       "      <th>date_time_period</th>\n",
       "      <th></th>\n",
       "      <th></th>\n",
       "    </tr>\n",
       "  </thead>\n",
       "  <tbody>\n",
       "    <tr>\n",
       "      <th>2016-12-07 18:00:00</th>\n",
       "      <td>7</td>\n",
       "      <td>NaN</td>\n",
       "    </tr>\n",
       "    <tr>\n",
       "      <th>2016-12-07 21:00:00</th>\n",
       "      <td>10</td>\n",
       "      <td>NaN</td>\n",
       "    </tr>\n",
       "    <tr>\n",
       "      <th>2016-12-08 00:00:00</th>\n",
       "      <td>6</td>\n",
       "      <td>NaN</td>\n",
       "    </tr>\n",
       "    <tr>\n",
       "      <th>2016-12-08 03:00:00</th>\n",
       "      <td>8</td>\n",
       "      <td>NaN</td>\n",
       "    </tr>\n",
       "    <tr>\n",
       "      <th>2016-12-08 06:00:00</th>\n",
       "      <td>12</td>\n",
       "      <td>NaN</td>\n",
       "    </tr>\n",
       "  </tbody>\n",
       "</table>\n",
       "</div>"
      ],
      "text/plain": [
       "                     text  avg_ws_obs\n",
       "date_time_period                     \n",
       "2016-12-07 18:00:00     7         NaN\n",
       "2016-12-07 21:00:00    10         NaN\n",
       "2016-12-08 00:00:00     6         NaN\n",
       "2016-12-08 03:00:00     8         NaN\n",
       "2016-12-08 06:00:00    12         NaN"
      ]
     },
     "execution_count": 170,
     "metadata": {},
     "output_type": "execute_result"
    }
   ],
   "source": [
    "londonboth.head()"
   ]
  },
  {
   "cell_type": "code",
   "execution_count": 177,
   "metadata": {
    "collapsed": false
   },
   "outputs": [
    {
     "data": {
      "text/html": [
       "<iframe id=\"igraph\" scrolling=\"no\" style=\"border:none;\" seamless=\"seamless\" src=\"https://plot.ly/~cap7carps/88.embed\" height=\"525px\" width=\"100%\"></iframe>"
      ],
      "text/plain": [
       "<plotly.tools.PlotlyDisplay object>"
      ]
     },
     "execution_count": 177,
     "metadata": {},
     "output_type": "execute_result"
    }
   ],
   "source": [
    "import plotly.plotly as py\n",
    "import plotly.graph_objs as go\n",
    "\n",
    "trace1 = go.Scatter(\n",
    "    x = list(londonboth.index),\n",
    "    y = list(londonboth.avg_ws_obs.values),\n",
    "    name='Wind Speed'\n",
    ")\n",
    "trace2 = go.Scatter(\n",
    "    x = list(londonboth.index),\n",
    "    y = list(londonboth.text.values),\n",
    "    name='Count of Weather Related Tweets',\n",
    "    yaxis='y2'\n",
    ")\n",
    "data = [trace1, trace2]\n",
    "layout = go.Layout(\n",
    "    title='London - Wind Speed vs Wind Related Tweets',\n",
    "    yaxis=dict(\n",
    "        title='Wind Speed'\n",
    "    ),\n",
    "    yaxis2=dict(\n",
    "        title='Count of Tweets',\n",
    "        titlefont=dict(\n",
    "            color='rgb(0, 100, 200)'\n",
    "        ),        \n",
    "        overlaying='y',\n",
    "        side='right'\n",
    "    )\n",
    ")\n",
    "fig = go.Figure(data=data, layout=layout)\n",
    "py.iplot(fig)"
   ]
  },
  {
   "cell_type": "code",
   "execution_count": 172,
   "metadata": {
    "collapsed": false,
    "scrolled": false
   },
   "outputs": [
    {
     "data": {
      "text/html": [
       "<div>\n",
       "<table border=\"1\" class=\"dataframe\">\n",
       "  <thead>\n",
       "    <tr style=\"text-align: right;\">\n",
       "      <th></th>\n",
       "      <th>Cold</th>\n",
       "      <th>Rain</th>\n",
       "      <th>W1</th>\n",
       "      <th>W2</th>\n",
       "      <th>Warm</th>\n",
       "      <th>Windy</th>\n",
       "      <th>_id</th>\n",
       "      <th>city</th>\n",
       "      <th>coordinates</th>\n",
       "      <th>created_at</th>\n",
       "      <th>date_time_period</th>\n",
       "      <th>text</th>\n",
       "    </tr>\n",
       "  </thead>\n",
       "  <tbody>\n",
       "    <tr>\n",
       "      <th>0</th>\n",
       "      <td>N</td>\n",
       "      <td>Y</td>\n",
       "      <td>Y</td>\n",
       "      <td>Y</td>\n",
       "      <td>N</td>\n",
       "      <td>Y</td>\n",
       "      <td>586b64e18d709f1f100a0979</td>\n",
       "      <td>london</td>\n",
       "      <td>{u'type': u'Point', u'coordinates': [-0.237222...</td>\n",
       "      <td>2016-12-07 18:59:27</td>\n",
       "      <td>2016-12-07 18:00:00</td>\n",
       "      <td>Changeable, some precipitation. Now:12.1C - Ra...</td>\n",
       "    </tr>\n",
       "    <tr>\n",
       "      <th>1</th>\n",
       "      <td>N</td>\n",
       "      <td>Y</td>\n",
       "      <td>Y</td>\n",
       "      <td>Y</td>\n",
       "      <td>N</td>\n",
       "      <td>Y</td>\n",
       "      <td>586b64e18d709f1f100a09d2</td>\n",
       "      <td>london</td>\n",
       "      <td>{u'type': u'Point', u'coordinates': [-0.469791...</td>\n",
       "      <td>2016-12-07 19:00:42</td>\n",
       "      <td>2016-12-07 18:00:00</td>\n",
       "      <td>18:52 Temp. 11.1°C, Hum. 85%, Dewp. 8°C, Bar. ...</td>\n",
       "    </tr>\n",
       "    <tr>\n",
       "      <th>2</th>\n",
       "      <td>N</td>\n",
       "      <td>N</td>\n",
       "      <td>Y</td>\n",
       "      <td>Y</td>\n",
       "      <td>N</td>\n",
       "      <td>Y</td>\n",
       "      <td>586b64e28d709f1f100a1510</td>\n",
       "      <td>london</td>\n",
       "      <td>None</td>\n",
       "      <td>2016-12-07 19:40:01</td>\n",
       "      <td>2016-12-07 18:00:00</td>\n",
       "      <td>just to personally wind you up Kano?</td>\n",
       "    </tr>\n",
       "    <tr>\n",
       "      <th>3</th>\n",
       "      <td>N</td>\n",
       "      <td>Y</td>\n",
       "      <td>Y</td>\n",
       "      <td>Y</td>\n",
       "      <td>N</td>\n",
       "      <td>Y</td>\n",
       "      <td>586b64e38d709f1f100a1a87</td>\n",
       "      <td>london</td>\n",
       "      <td>{u'type': u'Point', u'coordinates': [-0.237222...</td>\n",
       "      <td>2016-12-07 19:59:29</td>\n",
       "      <td>2016-12-07 18:00:00</td>\n",
       "      <td>Changeable, some precipitation. Now:12.3C - Ra...</td>\n",
       "    </tr>\n",
       "    <tr>\n",
       "      <th>4</th>\n",
       "      <td>N</td>\n",
       "      <td>Y</td>\n",
       "      <td>Y</td>\n",
       "      <td>Y</td>\n",
       "      <td>N</td>\n",
       "      <td>Y</td>\n",
       "      <td>586b64e38d709f1f100a1af9</td>\n",
       "      <td>london</td>\n",
       "      <td>{u'type': u'Point', u'coordinates': [-0.469791...</td>\n",
       "      <td>2016-12-07 20:00:44</td>\n",
       "      <td>2016-12-07 18:00:00</td>\n",
       "      <td>19:53 Temp. 10.9°C, Hum. 85%, Dewp. 7.8°C, Bar...</td>\n",
       "    </tr>\n",
       "  </tbody>\n",
       "</table>\n",
       "</div>"
      ],
      "text/plain": [
       "  Cold Rain W1 W2 Warm Windy                       _id    city  \\\n",
       "0    N    Y  Y  Y    N     Y  586b64e18d709f1f100a0979  london   \n",
       "1    N    Y  Y  Y    N     Y  586b64e18d709f1f100a09d2  london   \n",
       "2    N    N  Y  Y    N     Y  586b64e28d709f1f100a1510  london   \n",
       "3    N    Y  Y  Y    N     Y  586b64e38d709f1f100a1a87  london   \n",
       "4    N    Y  Y  Y    N     Y  586b64e38d709f1f100a1af9  london   \n",
       "\n",
       "                                         coordinates          created_at  \\\n",
       "0  {u'type': u'Point', u'coordinates': [-0.237222... 2016-12-07 18:59:27   \n",
       "1  {u'type': u'Point', u'coordinates': [-0.469791... 2016-12-07 19:00:42   \n",
       "2                                               None 2016-12-07 19:40:01   \n",
       "3  {u'type': u'Point', u'coordinates': [-0.237222... 2016-12-07 19:59:29   \n",
       "4  {u'type': u'Point', u'coordinates': [-0.469791... 2016-12-07 20:00:44   \n",
       "\n",
       "     date_time_period                                               text  \n",
       "0 2016-12-07 18:00:00  Changeable, some precipitation. Now:12.1C - Ra...  \n",
       "1 2016-12-07 18:00:00  18:52 Temp. 11.1°C, Hum. 85%, Dewp. 8°C, Bar. ...  \n",
       "2 2016-12-07 18:00:00               just to personally wind you up Kano?  \n",
       "3 2016-12-07 18:00:00  Changeable, some precipitation. Now:12.3C - Ra...  \n",
       "4 2016-12-07 18:00:00  19:53 Temp. 10.9°C, Hum. 85%, Dewp. 7.8°C, Bar...  "
      ]
     },
     "execution_count": 172,
     "metadata": {},
     "output_type": "execute_result"
    }
   ],
   "source": [
    "london2.head()"
   ]
  },
  {
   "cell_type": "code",
   "execution_count": 176,
   "metadata": {
    "collapsed": false
   },
   "outputs": [
    {
     "data": {
      "text/html": [
       "<div>\n",
       "<table border=\"1\" class=\"dataframe\">\n",
       "  <thead>\n",
       "    <tr style=\"text-align: right;\">\n",
       "      <th></th>\n",
       "      <th>rain_accuracy</th>\n",
       "    </tr>\n",
       "    <tr>\n",
       "      <th>forecast_period</th>\n",
       "      <th></th>\n",
       "    </tr>\n",
       "  </thead>\n",
       "  <tbody>\n",
       "    <tr>\n",
       "      <th>-5.0</th>\n",
       "      <td>0.710455</td>\n",
       "    </tr>\n",
       "    <tr>\n",
       "      <th>-4.0</th>\n",
       "      <td>0.767105</td>\n",
       "    </tr>\n",
       "    <tr>\n",
       "      <th>-3.0</th>\n",
       "      <td>0.787941</td>\n",
       "    </tr>\n",
       "    <tr>\n",
       "      <th>-2.0</th>\n",
       "      <td>0.579333</td>\n",
       "    </tr>\n",
       "    <tr>\n",
       "      <th>-1.0</th>\n",
       "      <td>0.779071</td>\n",
       "    </tr>\n",
       "    <tr>\n",
       "      <th>0.0</th>\n",
       "      <td>0.825500</td>\n",
       "    </tr>\n",
       "    <tr>\n",
       "      <th>1.0</th>\n",
       "      <td>0.593824</td>\n",
       "    </tr>\n",
       "    <tr>\n",
       "      <th>2.0</th>\n",
       "      <td>0.781953</td>\n",
       "    </tr>\n",
       "    <tr>\n",
       "      <th>3.0</th>\n",
       "      <td>0.778578</td>\n",
       "    </tr>\n",
       "    <tr>\n",
       "      <th>4.0</th>\n",
       "      <td>0.614118</td>\n",
       "    </tr>\n",
       "    <tr>\n",
       "      <th>5.0</th>\n",
       "      <td>0.790032</td>\n",
       "    </tr>\n",
       "    <tr>\n",
       "      <th>6.0</th>\n",
       "      <td>0.777302</td>\n",
       "    </tr>\n",
       "    <tr>\n",
       "      <th>7.0</th>\n",
       "      <td>0.636667</td>\n",
       "    </tr>\n",
       "    <tr>\n",
       "      <th>8.0</th>\n",
       "      <td>0.785140</td>\n",
       "    </tr>\n",
       "    <tr>\n",
       "      <th>9.0</th>\n",
       "      <td>0.782740</td>\n",
       "    </tr>\n",
       "    <tr>\n",
       "      <th>10.0</th>\n",
       "      <td>0.661944</td>\n",
       "    </tr>\n",
       "    <tr>\n",
       "      <th>11.0</th>\n",
       "      <td>0.773040</td>\n",
       "    </tr>\n",
       "    <tr>\n",
       "      <th>12.0</th>\n",
       "      <td>0.803264</td>\n",
       "    </tr>\n",
       "    <tr>\n",
       "      <th>13.0</th>\n",
       "      <td>0.783000</td>\n",
       "    </tr>\n",
       "    <tr>\n",
       "      <th>14.0</th>\n",
       "      <td>0.769282</td>\n",
       "    </tr>\n",
       "    <tr>\n",
       "      <th>15.0</th>\n",
       "      <td>0.797240</td>\n",
       "    </tr>\n",
       "    <tr>\n",
       "      <th>16.0</th>\n",
       "      <td>0.769250</td>\n",
       "    </tr>\n",
       "    <tr>\n",
       "      <th>17.0</th>\n",
       "      <td>0.777128</td>\n",
       "    </tr>\n",
       "    <tr>\n",
       "      <th>18.0</th>\n",
       "      <td>0.774406</td>\n",
       "    </tr>\n",
       "    <tr>\n",
       "      <th>19.0</th>\n",
       "      <td>0.768250</td>\n",
       "    </tr>\n",
       "    <tr>\n",
       "      <th>20.0</th>\n",
       "      <td>0.773498</td>\n",
       "    </tr>\n",
       "    <tr>\n",
       "      <th>21.0</th>\n",
       "      <td>0.795112</td>\n",
       "    </tr>\n",
       "    <tr>\n",
       "      <th>22.0</th>\n",
       "      <td>0.796250</td>\n",
       "    </tr>\n",
       "    <tr>\n",
       "      <th>23.0</th>\n",
       "      <td>0.770486</td>\n",
       "    </tr>\n",
       "    <tr>\n",
       "      <th>24.0</th>\n",
       "      <td>0.799733</td>\n",
       "    </tr>\n",
       "    <tr>\n",
       "      <th>...</th>\n",
       "      <td>...</td>\n",
       "    </tr>\n",
       "    <tr>\n",
       "      <th>89.0</th>\n",
       "      <td>0.726481</td>\n",
       "    </tr>\n",
       "    <tr>\n",
       "      <th>90.0</th>\n",
       "      <td>0.731545</td>\n",
       "    </tr>\n",
       "    <tr>\n",
       "      <th>91.0</th>\n",
       "      <td>0.729500</td>\n",
       "    </tr>\n",
       "    <tr>\n",
       "      <th>92.0</th>\n",
       "      <td>0.731015</td>\n",
       "    </tr>\n",
       "    <tr>\n",
       "      <th>93.0</th>\n",
       "      <td>0.722787</td>\n",
       "    </tr>\n",
       "    <tr>\n",
       "      <th>94.0</th>\n",
       "      <td>0.753250</td>\n",
       "    </tr>\n",
       "    <tr>\n",
       "      <th>95.0</th>\n",
       "      <td>0.709383</td>\n",
       "    </tr>\n",
       "    <tr>\n",
       "      <th>96.0</th>\n",
       "      <td>0.757547</td>\n",
       "    </tr>\n",
       "    <tr>\n",
       "      <th>97.0</th>\n",
       "      <td>0.781750</td>\n",
       "    </tr>\n",
       "    <tr>\n",
       "      <th>98.0</th>\n",
       "      <td>0.715732</td>\n",
       "    </tr>\n",
       "    <tr>\n",
       "      <th>99.0</th>\n",
       "      <td>0.731327</td>\n",
       "    </tr>\n",
       "    <tr>\n",
       "      <th>100.0</th>\n",
       "      <td>0.876765</td>\n",
       "    </tr>\n",
       "    <tr>\n",
       "      <th>101.0</th>\n",
       "      <td>0.723477</td>\n",
       "    </tr>\n",
       "    <tr>\n",
       "      <th>102.0</th>\n",
       "      <td>0.737962</td>\n",
       "    </tr>\n",
       "    <tr>\n",
       "      <th>103.0</th>\n",
       "      <td>0.710313</td>\n",
       "    </tr>\n",
       "    <tr>\n",
       "      <th>104.0</th>\n",
       "      <td>0.714090</td>\n",
       "    </tr>\n",
       "    <tr>\n",
       "      <th>105.0</th>\n",
       "      <td>0.725514</td>\n",
       "    </tr>\n",
       "    <tr>\n",
       "      <th>106.0</th>\n",
       "      <td>0.804167</td>\n",
       "    </tr>\n",
       "    <tr>\n",
       "      <th>107.0</th>\n",
       "      <td>0.717992</td>\n",
       "    </tr>\n",
       "    <tr>\n",
       "      <th>108.0</th>\n",
       "      <td>0.763338</td>\n",
       "    </tr>\n",
       "    <tr>\n",
       "      <th>109.0</th>\n",
       "      <td>0.783636</td>\n",
       "    </tr>\n",
       "    <tr>\n",
       "      <th>110.0</th>\n",
       "      <td>0.731369</td>\n",
       "    </tr>\n",
       "    <tr>\n",
       "      <th>111.0</th>\n",
       "      <td>0.757581</td>\n",
       "    </tr>\n",
       "    <tr>\n",
       "      <th>112.0</th>\n",
       "      <td>0.682000</td>\n",
       "    </tr>\n",
       "    <tr>\n",
       "      <th>113.0</th>\n",
       "      <td>0.727247</td>\n",
       "    </tr>\n",
       "    <tr>\n",
       "      <th>114.0</th>\n",
       "      <td>0.818032</td>\n",
       "    </tr>\n",
       "    <tr>\n",
       "      <th>115.0</th>\n",
       "      <td>0.630000</td>\n",
       "    </tr>\n",
       "    <tr>\n",
       "      <th>116.0</th>\n",
       "      <td>0.798243</td>\n",
       "    </tr>\n",
       "    <tr>\n",
       "      <th>117.0</th>\n",
       "      <td>0.812500</td>\n",
       "    </tr>\n",
       "    <tr>\n",
       "      <th>118.0</th>\n",
       "      <td>0.670000</td>\n",
       "    </tr>\n",
       "  </tbody>\n",
       "</table>\n",
       "<p>124 rows × 1 columns</p>\n",
       "</div>"
      ],
      "text/plain": [
       "                 rain_accuracy\n",
       "forecast_period               \n",
       "-5.0                  0.710455\n",
       "-4.0                  0.767105\n",
       "-3.0                  0.787941\n",
       "-2.0                  0.579333\n",
       "-1.0                  0.779071\n",
       " 0.0                  0.825500\n",
       " 1.0                  0.593824\n",
       " 2.0                  0.781953\n",
       " 3.0                  0.778578\n",
       " 4.0                  0.614118\n",
       " 5.0                  0.790032\n",
       " 6.0                  0.777302\n",
       " 7.0                  0.636667\n",
       " 8.0                  0.785140\n",
       " 9.0                  0.782740\n",
       " 10.0                 0.661944\n",
       " 11.0                 0.773040\n",
       " 12.0                 0.803264\n",
       " 13.0                 0.783000\n",
       " 14.0                 0.769282\n",
       " 15.0                 0.797240\n",
       " 16.0                 0.769250\n",
       " 17.0                 0.777128\n",
       " 18.0                 0.774406\n",
       " 19.0                 0.768250\n",
       " 20.0                 0.773498\n",
       " 21.0                 0.795112\n",
       " 22.0                 0.796250\n",
       " 23.0                 0.770486\n",
       " 24.0                 0.799733\n",
       "...                        ...\n",
       " 89.0                 0.726481\n",
       " 90.0                 0.731545\n",
       " 91.0                 0.729500\n",
       " 92.0                 0.731015\n",
       " 93.0                 0.722787\n",
       " 94.0                 0.753250\n",
       " 95.0                 0.709383\n",
       " 96.0                 0.757547\n",
       " 97.0                 0.781750\n",
       " 98.0                 0.715732\n",
       " 99.0                 0.731327\n",
       " 100.0                0.876765\n",
       " 101.0                0.723477\n",
       " 102.0                0.737962\n",
       " 103.0                0.710313\n",
       " 104.0                0.714090\n",
       " 105.0                0.725514\n",
       " 106.0                0.804167\n",
       " 107.0                0.717992\n",
       " 108.0                0.763338\n",
       " 109.0                0.783636\n",
       " 110.0                0.731369\n",
       " 111.0                0.757581\n",
       " 112.0                0.682000\n",
       " 113.0                0.727247\n",
       " 114.0                0.818032\n",
       " 115.0                0.630000\n",
       " 116.0                0.798243\n",
       " 117.0                0.812500\n",
       " 118.0                0.670000\n",
       "\n",
       "[124 rows x 1 columns]"
      ]
     },
     "execution_count": 176,
     "metadata": {},
     "output_type": "execute_result"
    }
   ],
   "source": [
    "weatherFrame.ix[:,['forecast_period', 'rain_accuracy']].groupby('forecast_period').mean()"
   ]
  },
  {
   "cell_type": "code",
   "execution_count": null,
   "metadata": {
    "collapsed": true
   },
   "outputs": [],
   "source": []
  }
 ],
 "metadata": {
  "anaconda-cloud": {},
  "kernelspec": {
   "display_name": "Python [conda root]",
   "language": "python",
   "name": "conda-root-py"
  },
  "language_info": {
   "codemirror_mode": {
    "name": "ipython",
    "version": 2
   },
   "file_extension": ".py",
   "mimetype": "text/x-python",
   "name": "python",
   "nbconvert_exporter": "python",
   "pygments_lexer": "ipython2",
   "version": "2.7.12"
  }
 },
 "nbformat": 4,
 "nbformat_minor": 1
}
